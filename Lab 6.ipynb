{
 "cells": [
  {
   "cell_type": "code",
   "execution_count": 23,
   "id": "8d46d912",
   "metadata": {},
   "outputs": [
    {
     "name": "stdout",
     "output_type": "stream",
     "text": [
      "Area of the rectangle is:  20\n",
      "The peremeter is:  18\n"
     ]
    }
   ],
   "source": [
    "class Rectangle:\n",
    "    def __init__(self,length,width):\n",
    "        self.length=length\n",
    "        self.width=width\n",
    "    def calculate_area(self):\n",
    "        return self.length*self.width\n",
    "    def finding_perimeter(self):\n",
    "            return 2*(self.length+self.width)\n",
    "rec= Rectangle(5, 4)\n",
    "area=rec.calculate_area()\n",
    "print(\"Area of the rectangle is: \", area)\n",
    "perimeter=rec.finding_perimeter()\n",
    "print(\"The peremeter is: \",perimeter)"
   ]
  },
  {
   "cell_type": "code",
   "execution_count": 24,
   "id": "8742571b",
   "metadata": {},
   "outputs": [
    {
     "name": "stdout",
     "output_type": "stream",
     "text": [
      "tommy says: Woof! Wooof!\n",
      "catoo says: Meoooow!\n",
      "parinda says: Chirp!chrippp\n"
     ]
    }
   ],
   "source": [
    "class Animal:\n",
    "    def __init__(self,name):\n",
    "        self.name=name  \n",
    "    def make_sounds(self):\n",
    "        pass\n",
    "class Dog(Animal):\n",
    "    def make_sounds(self):\n",
    "        return \"Woof! Wooof!\"\n",
    "class Cat(Animal):\n",
    "    def make_sounds(self):\n",
    "        return \"Meoooow!\"\n",
    "class Bird(Animal):\n",
    "    def make_sounds(self):\n",
    "        return \"Chirp!chrippp\"\n",
    "dog=Dog(\"tommy\")\n",
    "cat=Cat(\"catoo\")\n",
    "bird=Bird(\"parinda\")\n",
    "animals=[dog,cat,bird]\n",
    "for animal in animals:\n",
    "    print(animal.name + \" says:\", animal.make_sounds())\n"
   ]
  },
  {
   "cell_type": "code",
   "execution_count": 43,
   "id": "b9cb571a",
   "metadata": {},
   "outputs": [
    {
     "name": "stdout",
     "output_type": "stream",
     "text": [
      "the area of rectangle is: 24\n",
      "the area of circle is: 25.132741228718345\n"
     ]
    }
   ],
   "source": [
    "import math\n",
    "class Shape:\n",
    "    def area(self):\n",
    "        pass\n",
    "class Rectangle(Shape):\n",
    "    def __init__(self,length, width):\n",
    "        self.length=length\n",
    "        self.width=width\n",
    "    def area(self):\n",
    "        return self.length*self.width\n",
    "class Circle(Shape):\n",
    "    def __init__(self,radius):\n",
    "        self.radius=radius\n",
    "    def area(self):\n",
    "        return math.pi*(self.radius*2)\n",
    "rectangle=Rectangle(6,4)\n",
    "circle=Circle(4)\n",
    "print(\"the area of rectangle is:\", rectangle.area())\n",
    "print(\"the area of circle is:\", circle.area())        \n",
    "        "
   ]
  }
 ],
 "metadata": {
  "kernelspec": {
   "display_name": "Python 3 (ipykernel)",
   "language": "python",
   "name": "python3"
  },
  "language_info": {
   "codemirror_mode": {
    "name": "ipython",
    "version": 3
   },
   "file_extension": ".py",
   "mimetype": "text/x-python",
   "name": "python",
   "nbconvert_exporter": "python",
   "pygments_lexer": "ipython3",
   "version": "3.10.9"
  }
 },
 "nbformat": 4,
 "nbformat_minor": 5
}
