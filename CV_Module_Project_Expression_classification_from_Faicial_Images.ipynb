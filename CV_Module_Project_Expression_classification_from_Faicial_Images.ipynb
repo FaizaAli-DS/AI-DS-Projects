{
  "nbformat": 4,
  "nbformat_minor": 0,
  "metadata": {
    "colab": {
      "provenance": [],
      "authorship_tag": "ABX9TyM/ez277+T4XNvMseS5GzJK",
      "include_colab_link": true
    },
    "kernelspec": {
      "name": "python3",
      "display_name": "Python 3"
    },
    "language_info": {
      "name": "python"
    }
  },
  "cells": [
    {
      "cell_type": "markdown",
      "metadata": {
        "id": "view-in-github",
        "colab_type": "text"
      },
      "source": [
        "<a href=\"https://colab.research.google.com/github/FaizaAli-Dev/AI-DS-Projects/blob/All-about-AI-and-Data-Science/CV_Module_Project_Expression_classification_from_Faicial_Images.ipynb\" target=\"_parent\"><img src=\"https://colab.research.google.com/assets/colab-badge.svg\" alt=\"Open In Colab\"/></a>"
      ]
    },
    {
      "cell_type": "markdown",
      "source": [
        "# Project Title: Expression Classification from Facial Images\n",
        "Learning Objectives:\n",
        "*   Understand the fundamentals of using a deep ConvNet\n",
        "*   Learn how to use Tensorflow/Keras\n",
        "*   Learn how to use Google Colab\n",
        "*   Learn how to train (fine-tune) a convolutional neural network architecture\n",
        "# Seven basic expression categories:\n",
        " “angry (0)”, “disgust (1)”, “fear (2)”, “happy (3)”, “sad (4)”, “surprise(5)”,or “neutral (6)”\n",
        "# Expressions can be useful for\n",
        "1.   Human-Computer Interaction based recommendation systems to determine whether to push product information or not.  \n",
        "2.   Determine the psychological state of a person during online interviews\n",
        "\n",
        "# Steps we will follow:\n",
        "1.   Preprocessing:\n",
        "2.   Split the data into Training/Validation/Test\n",
        "1.   Model should be tested on a separate test set of images\n",
        "2.   Evaluate the performance of the model by measuring its accuracy, precision, recall, and F1 Score.\n",
        "\n",
        "\n",
        "\n",
        "\n"
      ],
      "metadata": {
        "id": "u2rrGwq88wDE"
      }
    },
    {
      "cell_type": "code",
      "execution_count": null,
      "metadata": {
        "id": "tZ7iL2ay8T9-"
      },
      "outputs": [],
      "source": []
    }
  ]
}