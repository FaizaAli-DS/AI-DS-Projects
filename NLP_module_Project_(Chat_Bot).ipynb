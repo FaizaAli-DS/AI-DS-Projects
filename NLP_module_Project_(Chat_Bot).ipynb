{
  "nbformat": 4,
  "nbformat_minor": 0,
  "metadata": {
    "colab": {
      "provenance": [],
      "gpuType": "T4",
      "mount_file_id": "1nWAx32jbw0OyU9cAOBIil5kd5s_az0IW",
      "authorship_tag": "ABX9TyNeZxiir1gIn474t+YkLJy8",
      "include_colab_link": true
    },
    "kernelspec": {
      "name": "python3",
      "display_name": "Python 3"
    },
    "language_info": {
      "name": "python"
    },
    "accelerator": "GPU"
  },
  "cells": [
    {
      "cell_type": "markdown",
      "metadata": {
        "id": "view-in-github",
        "colab_type": "text"
      },
      "source": [
        "<a href=\"https://colab.research.google.com/github/FaizaAli-DS/AI-DS-Projects/blob/main/NLP_module_Project_(Chat_Bot).ipynb\" target=\"_parent\"><img src=\"https://colab.research.google.com/assets/colab-badge.svg\" alt=\"Open In Colab\"/></a>"
      ]
    },
    {
      "cell_type": "markdown",
      "source": [
        "# **Project Title: Design and Development of Topical Chabot using Huggingface transformer**"
      ],
      "metadata": {
        "id": "I5iIXlYiwmwT"
      }
    },
    {
      "cell_type": "code",
      "execution_count": 1,
      "metadata": {
        "colab": {
          "base_uri": "https://localhost:8080/"
        },
        "id": "CxWr_0iAls97",
        "outputId": "f1e09e49-cb78-4e5a-f91b-867e9ea3539c"
      },
      "outputs": [
        {
          "output_type": "stream",
          "name": "stdout",
          "text": [
            "Cloning into 'Topical-Chat'...\n",
            "remote: Enumerating objects: 262, done.\u001b[K\n",
            "remote: Counting objects: 100% (65/65), done.\u001b[K\n",
            "remote: Compressing objects: 100% (58/58), done.\u001b[K\n",
            "remote: Total 262 (delta 26), reused 15 (delta 3), pack-reused 197\u001b[K\n",
            "Receiving objects: 100% (262/262), 96.25 MiB | 26.63 MiB/s, done.\n",
            "Resolving deltas: 100% (134/134), done.\n",
            "Updating files: 100% (119/119), done.\n"
          ]
        }
      ],
      "source": [
        "!git clone https://github.com/alexa/Topical-Chat.git"
      ]
    },
    {
      "cell_type": "code",
      "source": [
        "!pip install transformers"
      ],
      "metadata": {
        "id": "zDCZluXcl0lH",
        "colab": {
          "base_uri": "https://localhost:8080/"
        },
        "outputId": "5dc00ed4-6270-4a75-bc8f-52a285370626"
      },
      "execution_count": 2,
      "outputs": [
        {
          "output_type": "stream",
          "name": "stdout",
          "text": [
            "Collecting transformers\n",
            "  Downloading transformers-4.33.3-py3-none-any.whl (7.6 MB)\n",
            "\u001b[2K     \u001b[90m━━━━━━━━━━━━━━━━━━━━━━━━━━━━━━━━━━━━━━━━\u001b[0m \u001b[32m7.6/7.6 MB\u001b[0m \u001b[31m23.4 MB/s\u001b[0m eta \u001b[36m0:00:00\u001b[0m\n",
            "\u001b[?25hRequirement already satisfied: filelock in /usr/local/lib/python3.10/dist-packages (from transformers) (3.12.2)\n",
            "Collecting huggingface-hub<1.0,>=0.15.1 (from transformers)\n",
            "  Downloading huggingface_hub-0.17.3-py3-none-any.whl (295 kB)\n",
            "\u001b[2K     \u001b[90m━━━━━━━━━━━━━━━━━━━━━━━━━━━━━━━━━━━━━━\u001b[0m \u001b[32m295.0/295.0 kB\u001b[0m \u001b[31m32.5 MB/s\u001b[0m eta \u001b[36m0:00:00\u001b[0m\n",
            "\u001b[?25hRequirement already satisfied: numpy>=1.17 in /usr/local/lib/python3.10/dist-packages (from transformers) (1.23.5)\n",
            "Requirement already satisfied: packaging>=20.0 in /usr/local/lib/python3.10/dist-packages (from transformers) (23.1)\n",
            "Requirement already satisfied: pyyaml>=5.1 in /usr/local/lib/python3.10/dist-packages (from transformers) (6.0.1)\n",
            "Requirement already satisfied: regex!=2019.12.17 in /usr/local/lib/python3.10/dist-packages (from transformers) (2023.6.3)\n",
            "Requirement already satisfied: requests in /usr/local/lib/python3.10/dist-packages (from transformers) (2.31.0)\n",
            "Collecting tokenizers!=0.11.3,<0.14,>=0.11.1 (from transformers)\n",
            "  Downloading tokenizers-0.13.3-cp310-cp310-manylinux_2_17_x86_64.manylinux2014_x86_64.whl (7.8 MB)\n",
            "\u001b[2K     \u001b[90m━━━━━━━━━━━━━━━━━━━━━━━━━━━━━━━━━━━━━━━━\u001b[0m \u001b[32m7.8/7.8 MB\u001b[0m \u001b[31m59.7 MB/s\u001b[0m eta \u001b[36m0:00:00\u001b[0m\n",
            "\u001b[?25hCollecting safetensors>=0.3.1 (from transformers)\n",
            "  Downloading safetensors-0.3.3-cp310-cp310-manylinux_2_17_x86_64.manylinux2014_x86_64.whl (1.3 MB)\n",
            "\u001b[2K     \u001b[90m━━━━━━━━━━━━━━━━━━━━━━━━━━━━━━━━━━━━━━━━\u001b[0m \u001b[32m1.3/1.3 MB\u001b[0m \u001b[31m59.2 MB/s\u001b[0m eta \u001b[36m0:00:00\u001b[0m\n",
            "\u001b[?25hRequirement already satisfied: tqdm>=4.27 in /usr/local/lib/python3.10/dist-packages (from transformers) (4.66.1)\n",
            "Requirement already satisfied: fsspec in /usr/local/lib/python3.10/dist-packages (from huggingface-hub<1.0,>=0.15.1->transformers) (2023.6.0)\n",
            "Requirement already satisfied: typing-extensions>=3.7.4.3 in /usr/local/lib/python3.10/dist-packages (from huggingface-hub<1.0,>=0.15.1->transformers) (4.5.0)\n",
            "Requirement already satisfied: charset-normalizer<4,>=2 in /usr/local/lib/python3.10/dist-packages (from requests->transformers) (3.2.0)\n",
            "Requirement already satisfied: idna<4,>=2.5 in /usr/local/lib/python3.10/dist-packages (from requests->transformers) (3.4)\n",
            "Requirement already satisfied: urllib3<3,>=1.21.1 in /usr/local/lib/python3.10/dist-packages (from requests->transformers) (2.0.4)\n",
            "Requirement already satisfied: certifi>=2017.4.17 in /usr/local/lib/python3.10/dist-packages (from requests->transformers) (2023.7.22)\n",
            "Installing collected packages: tokenizers, safetensors, huggingface-hub, transformers\n",
            "Successfully installed huggingface-hub-0.17.3 safetensors-0.3.3 tokenizers-0.13.3 transformers-4.33.3\n"
          ]
        }
      ]
    },
    {
      "cell_type": "code",
      "source": [
        "import json\n",
        "import tensorflow as tf\n",
        "from transformers import BertTokenizer, TFBertForSequenceClassification\n",
        "from sklearn.model_selection import train_test_split\n",
        "from sklearn.metrics import classification_report"
      ],
      "metadata": {
        "id": "Y3QtX-Nbv56W"
      },
      "execution_count": 3,
      "outputs": []
    },
    {
      "cell_type": "code",
      "source": [
        "# Here we are defining the sentiment label mapping function\n",
        "def map_sentiment(sentiment):\n",
        "    sentiment_mapping = {\n",
        "        \"Angry\": 1,\n",
        "        \"Curious to dive deeper\": 2,\n",
        "        \"Disguised\": 3,\n",
        "        \"Fearful\": 4,\n",
        "        \"Happy\": 5,\n",
        "        \"Sad\": 6,\n",
        "        \"Surprised\": 7\n",
        "    }\n",
        "    return sentiment_mapping.get(sentiment, 0)"
      ],
      "metadata": {
        "id": "SF3Iav6xv6yM"
      },
      "execution_count": 4,
      "outputs": []
    },
    {
      "cell_type": "code",
      "source": [
        "# Load data from a JSON file and preprocess\n",
        "def load_data(data_path, tokenizer, max_length):\n",
        "    with open(data_path, \"r\") as json_file:\n",
        "        dataset = json.load(json_file)\n",
        "\n",
        "    input_data = []\n",
        "    labels = []\n",
        "\n",
        "    for conversation_id, conversation in dataset.items():\n",
        "        conversation_history = []\n",
        "        for turn in conversation[\"content\"]:\n",
        "            message = turn[\"message\"][0] if isinstance(turn[\"message\"], list) else turn[\"message\"]\n",
        "            conversation_history.append(message)\n",
        "        conversation_history_combined = \" \".join(conversation_history)\n",
        "\n",
        "        # Tokenize and pad the conversation history\n",
        "        tokenized_data = tokenizer(\n",
        "            conversation_history_combined,\n",
        "            padding=\"max_length\",\n",
        "            truncation=True,\n",
        "            return_tensors=\"tf\",\n",
        "            max_length=max_length\n",
        "        )\n",
        "\n",
        "        if \"content\" in conversation and conversation[\"content\"]:\n",
        "            last_turn = conversation[\"content\"][-1]\n",
        "            if \"sentiment\" in last_turn:\n",
        "                conversation_rating = last_turn[\"sentiment\"]\n",
        "                label = map_sentiment(conversation_rating)\n",
        "            else:\n",
        "                label = 0\n",
        "        else:\n",
        "            label = 0  # Assign a default label when 'content' is missing\n",
        "\n",
        "        input_data.append({\n",
        "            \"input_ids\": tokenized_data[\"input_ids\"][0],\n",
        "            \"attention_mask\": tokenized_data[\"attention_mask\"][0]\n",
        "        })\n",
        "        labels.append(label)\n",
        "\n",
        "    return input_data, labels"
      ],
      "metadata": {
        "id": "0LVAP88gv66m"
      },
      "execution_count": 5,
      "outputs": []
    },
    {
      "cell_type": "code",
      "source": [
        "# Here in this code, we will train the model with early stopping\n",
        "def train_model(model, train_dataset, val_dataset, epochs, batch_size):\n",
        "    early_stopping = tf.keras.callbacks.EarlyStopping(\n",
        "        monitor='val_loss',\n",
        "        patience=3,\n",
        "        restore_best_weights=True\n",
        "    )\n",
        "\n",
        "    history = model.fit(\n",
        "        train_dataset,\n",
        "        validation_data=val_dataset,\n",
        "        epochs=epochs,\n",
        "        batch_size=batch_size,\n",
        "        callbacks=[early_stopping]\n",
        "    )\n",
        "\n",
        "    return model, history"
      ],
      "metadata": {
        "id": "ffUkiR1ov7Bx"
      },
      "execution_count": 6,
      "outputs": []
    },
    {
      "cell_type": "code",
      "source": [
        "# Evaluate the model on the test dataset\n",
        "def evaluate_model(model, test_dataset):\n",
        "    predictions = model.predict(test_dataset)\n",
        "    predicted_labels = tf.argmax(predictions, axis=1)\n",
        "\n",
        "    true_labels = evaluate_model()\n",
        "    evaluate_model(model, (test_inputs, true_labels))\n",
        "    evaluate_model(model, (test_inputs, true_labels))\n",
        "\n",
        "\n",
        "\n",
        "    # Print a classification report with precision, recall, F1-score, etc.\n",
        "    print(classification_report(true_labels, predicted_labels))"
      ],
      "metadata": {
        "id": "QYkiVC6pwKsN"
      },
      "execution_count": 8,
      "outputs": []
    },
    {
      "cell_type": "code",
      "source": [
        "def main():\n",
        "    data_path = \"/content/drive/MyDrive/NLPChatbotData/train.json\"\n",
        "    max_length = 100\n",
        "    batch_size = 64\n",
        "    epochs = 50  # Increase the number of epochs if needed\n",
        "\n",
        "    tokenizer = BertTokenizer.from_pretrained(\"bert-base-uncased\")\n",
        "    num_labels = 8\n",
        "    input_data, labels = load_data(data_path, tokenizer, max_length)\n",
        "\n",
        "    # Split your data into train, validation, and test sets\n",
        "    train_inputs, test_inputs, train_labels, test_labels = train_test_split(input_data, labels, test_size=0.2)\n",
        "    train_inputs, val_inputs, train_labels, val_labels = train_test_split(train_inputs, train_labels, test_size=0.1)\n",
        "\n",
        "    # Create and compile your model\n",
        "    model = TFBertForSequenceClassification.from_pretrained(\"bert-base-uncased\", num_labels=num_labels)\n",
        "    optimizer = tf.keras.optimizers.Adam(learning_rate=2e-5)\n",
        "    loss = tf.keras.losses.SparseCategoricalCrossentropy(from_logits=True)\n",
        "    metric = tf.keras.metrics.SparseCategoricalAccuracy('accuracy')\n",
        "    model.compile(optimizer=optimizer, loss=loss, metrics=[metric])\n",
        "\n",
        "    # Train your model\n",
        "    model, history = train_model(model, (train_inputs, train_labels), (val_inputs, val_labels), epochs, batch_size)\n",
        "\n",
        "    # Evaluate the model on the test dataset\n",
        "    evaluate_model(model, (test_inputs, test_labels))\n",
        "\n",
        "    # Save the trained model and weights for future use\n",
        "    model.save(\"Chatbot_trained_model\")\n",
        "    if __name__ == \"__main__\":\n",
        "      main()"
      ],
      "metadata": {
        "id": "eisffqmCwK1T"
      },
      "execution_count": 12,
      "outputs": []
    }
  ]
}