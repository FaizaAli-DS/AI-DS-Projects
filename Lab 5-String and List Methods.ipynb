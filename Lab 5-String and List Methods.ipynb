{
 "cells": [
  {
   "cell_type": "code",
   "execution_count": 4,
   "id": "d810373f",
   "metadata": {},
   "outputs": [
    {
     "name": "stdout",
     "output_type": "stream",
     "text": [
      "Enter a line of text: a line with upper and lowwer letters\n",
      "A LINE WITH UPPER AND LOWWER LETTERS\n",
      "a line with upper and lowwer letters\n"
     ]
    }
   ],
   "source": [
    "#Write a program that inputs a line of text. Output the text in uppercase letters and in lowercase letters using built-in functions.\n",
    "text=input(\"Enter a line of text: \")\n",
    "print(text.upper())\n",
    "print(text.lower())"
   ]
  },
  {
   "cell_type": "code",
   "execution_count": 7,
   "id": "996fe65d",
   "metadata": {},
   "outputs": [
    {
     "name": "stdout",
     "output_type": "stream",
     "text": [
      "Enter a string: hi i am faiza ali\n",
      "5\n"
     ]
    }
   ],
   "source": [
    "no_of_words=input(\"Enter a string: \")\n",
    "print(len(no_of_words.split()))"
   ]
  },
  {
   "cell_type": "code",
   "execution_count": 1,
   "id": "2173be60",
   "metadata": {},
   "outputs": [
    {
     "name": "stdout",
     "output_type": "stream",
     "text": [
      "Enter a string:  HI MY NAME IS fAIZA aLI\n",
      "New string:  hi my name is faiza ali\n"
     ]
    }
   ],
   "source": [
    "def s_string(s):\n",
    "    s = s.lower()\n",
    "    s = s.replace('.', '')\n",
    "    s = s.replace(',', '')\n",
    "    return s\n",
    "string = input(\"Enter a string: \")\n",
    "result = s_string(string)\n",
    "print(\"New string:\", result)"
   ]
  },
  {
   "cell_type": "markdown",
   "id": "c8c4542c",
   "metadata": {},
   "source": [
    "ids=[4353, 2314, 2956, 3382, 9362, 3900]\n",
    "ids.remove(3382)\n",
    "print(ids)\n",
    "ids.index(9362)\n",
    "ids.insert(5,\"4499\")\n",
    "print(ids)"
   ]
  },
  {
   "cell_type": "code",
   "execution_count": 25,
   "id": "ad5ca8a3",
   "metadata": {},
   "outputs": [
    {
     "name": "stdout",
     "output_type": "stream",
     "text": [
      "[4353, 2314, 2956, 9362, 3900]\n",
      "[4353, 2314, 2956, 9362, 4499, 3900]\n",
      "[4353, 2314, 2956, 9362, 4499, 3900, 5566, 1830]\n",
      "[1830, 5566, 3900, 4499, 9362, 2956, 2314, 4353]\n",
      "[1830, 2314, 2956, 3900, 4353, 4499, 5566, 9362]\n"
     ]
    }
   ],
   "source": [
    "ids=[4353, 2314, 2956, 3382, 9362, 3900]\n",
    "ids.remove(3382)\n",
    "print(ids)\n",
    "ids.index(9362)\n",
    "ids.insert(4,4499)\n",
    "print(ids)\n",
    "new_list=[5566,1830]\n",
    "ids.extend(new_list)\n",
    "print(ids)\n",
    "ids.reverse()\n",
    "print(ids)\n",
    "ids.sort()\n",
    "print(ids)"
   ]
  },
  {
   "cell_type": "code",
   "execution_count": 2,
   "id": "0aed49e7",
   "metadata": {},
   "outputs": [
    {
     "name": "stdout",
     "output_type": "stream",
     "text": [
      "Roll\tPercentage\n",
      "------------------\n",
      "2\t2.73%\n",
      "3\t5.48%\n",
      "4\t8.65%\n",
      "5\t11.26%\n",
      "6\t13.43%\n",
      "7\t16.75%\n",
      "8\t13.97%\n",
      "9\t10.86%\n",
      "10\t8.48%\n",
      "11\t5.51%\n",
      "12\t2.88%\n"
     ]
    }
   ],
   "source": [
    "import random\n",
    "\n",
    "def roll_dice():\n",
    "    return random.randint(1, 6) + random.randint(1, 6)\n",
    "\n",
    "def calculate_odds(num_rolls):\n",
    "    rolls = [0] * 13  # Initialize a list to store the count of each roll\n",
    "\n",
    "    for _ in range(num_rolls):\n",
    "        total = roll_dice()\n",
    "        rolls[total] += 1\n",
    "\n",
    "    print(\"Roll\\tPercentage\")\n",
    "    print(\"------------------\")\n",
    "\n",
    "    for i in range(2, 13):\n",
    "        percentage = rolls[i] / num_rolls * 100\n",
    "        print(f\"{i}\\t{percentage:.2f}%\")\n",
    "\n",
    "calculate_odds(10000)"
   ]
  },
  {
   "cell_type": "markdown",
   "id": "d367fa05",
   "metadata": {},
   "source": [
    "In this program, the roll_dice function simulates rolling two dice by generating a random number between 1 and 6 for each die and returning their sum.\n",
    "\n",
    "The calculate_odds function takes the number of rolls as an argument and performs the simulation. It initializes a list called rolls with 13 elements (index 0 is not used), representing the count of each possible roll outcome. It then iterates num_rolls times, calling roll_dice and incrementing the corresponding count in the rolls list.\n",
    "\n",
    "After simulating the rolls, the function prints the results in a table format, displaying the roll number and its percentage. The percentages are calculated by dividing the count of each roll by the total number of rolls and multiplying by 100.\n",
    "\n",
    "Finally, the calculate_odds function is called with 10,000 rolls to approximate the odds of each outcome. You can adjust the number of rolls as per your requirement.\n",
    "\n",
    "The program will output a table with the roll number and its corresponding percentage for each possible outcome from 2 to 12."
   ]
  },
  {
   "cell_type": "code",
   "execution_count": 3,
   "id": "4ed63155",
   "metadata": {},
   "outputs": [
    {
     "name": "stdout",
     "output_type": "stream",
     "text": [
      "Random List: [2, 3, 4, 4, 6, 7, 7, 7, 7, 8, 10, 11, 12, 14, 16, 19, 20, 22, 24, 24, 24, 25, 25, 25, 27, 29, 30, 31, 34, 34, 37, 37, 37, 37, 38, 40, 41, 41, 43, 44, 45, 46, 47, 47, 48, 48, 49, 49, 52, 53, 53, 54, 56, 56, 56, 56, 58, 58, 60, 60, 60, 61, 62, 64, 65, 66, 67, 67, 67, 67, 69, 71, 72, 73, 74, 77, 77, 77, 79, 79, 80, 81, 82, 84, 85, 86, 86, 87, 87, 88, 91, 91, 92, 93, 94, 94, 97, 98, 100]\n",
      "Mean: 50\n",
      "Median: 53\n",
      "Mode: 7\n"
     ]
    }
   ],
   "source": [
    "import random\n",
    "from statistics import mode\n",
    "\n",
    "def calculate_mean(numbers):\n",
    "    return sum(numbers) // len(numbers)\n",
    "\n",
    "def calculate_median(numbers):\n",
    "    numbers.sort()\n",
    "    length = len(numbers)\n",
    "    if length % 2 == 0:\n",
    "        mid = length // 2\n",
    "        return (numbers[mid - 1] + numbers[mid]) // 2\n",
    "    else:\n",
    "        return numbers[length // 2]\n",
    "\n",
    "def calculate_mode(numbers):\n",
    "    return mode(numbers)\n",
    "\n",
    "def generate_random_list(length):\n",
    "    return [random.randint(1, 100) for _ in range(length)]\n",
    "\n",
    "# Generate a list of 99 random numbers\n",
    "random_list = generate_random_list(99)\n",
    "\n",
    "# Calculate the mean, median, and mode of the random list\n",
    "mean = calculate_mean(random_list)\n",
    "median = calculate_median(random_list)\n",
    "mode = calculate_mode(random_list)\n",
    "\n",
    "# Print the results\n",
    "print(\"Random List:\", random_list)\n",
    "print(\"Mean:\", mean)\n",
    "print(\"Median:\", median)\n",
    "print(\"Mode:\", mode)\n"
   ]
  },
  {
   "cell_type": "code",
   "execution_count": null,
   "id": "09b15bb3",
   "metadata": {},
   "outputs": [],
   "source": [
    "\n",
    "Certainly! Here's a Python program that includes functions for calculating the mean, median, and mode of a given list:\n",
    "\n",
    "python\n",
    "Copy code\n",
    "import random\n",
    "from statistics import mode\n",
    "\n",
    "def calculate_mean(numbers):\n",
    "    return sum(numbers) // len(numbers)\n",
    "\n",
    "def calculate_median(numbers):\n",
    "    numbers.sort()\n",
    "    length = len(numbers)\n",
    "    if length % 2 == 0:\n",
    "        mid = length // 2\n",
    "        return (numbers[mid - 1] + numbers[mid]) // 2\n",
    "    else:\n",
    "        return numbers[length // 2]\n",
    "\n",
    "def calculate_mode(numbers):\n",
    "    return mode(numbers)\n",
    "\n",
    "def generate_random_list(length):\n",
    "    return [random.randint(1, 100) for _ in range(length)]\n",
    "\n",
    "# Generate a list of 99 random numbers\n",
    "random_list = generate_random_list(99)\n",
    "\n",
    "# Calculate the mean, median, and mode of the random list\n",
    "mean = calculate_mean(random_list)\n",
    "median = calculate_median(random_list)\n",
    "mode = calculate_mode(random_list)\n",
    "\n",
    "# Print the results\n",
    "print(\"Random List:\", random_list)\n",
    "print(\"Mean:\", mean)\n",
    "print(\"Median:\", median)\n",
    "print(\"Mode:\", mode)"
   ]
  },
  {
   "cell_type": "markdown",
   "id": "e4c2870a",
   "metadata": {},
   "source": [
    "In this program, the calculate_mean function takes a list of numbers as an argument, calculates their sum using the sum function, and divides it by the length of the list to obtain the mean. The double slash (//) operator is used for integer division, which returns an integer.\n",
    "\n",
    "The calculate_median function first sorts the input list in ascending order using the sort method. It then determines the length of the list and checks if it is even or odd. For an even length, it takes the two middle elements, adds them together, and divides by 2 to obtain the median. For an odd length, it directly returns the middle element as the median.\n",
    "\n",
    "The calculate_mode function uses the mode function from the statistics module to calculate the mode of the input list. The mode function returns the most common element(s) in the list.\n",
    "\n",
    "The generate_random_list function generates a list of random numbers between 1 and 100 (inclusive) of the specified length using a list comprehension.\n",
    "\n",
    "Finally, the program generates a list of 99 random numbers, calculates the mean, median, and mode using the respective functions, and prints the results.\n",
    "\n",
    "Please note that the mode function from the statistics module returns the most common element(s) in the list. If there is more than one mode or if all elements occur with equal frequency, the function will raise a StatisticsError."
   ]
  },
  {
   "cell_type": "code",
   "execution_count": 4,
   "id": "dc22b550",
   "metadata": {},
   "outputs": [
    {
     "name": "stdout",
     "output_type": "stream",
     "text": [
      "[5, 1, 2, 3, 4]\n"
     ]
    }
   ],
   "source": [
    "def rotate_list(lst):\n",
    "    if len(lst) <= 1:\n",
    "        return lst\n",
    "    else:\n",
    "        return lst[-1:] + lst[:-1]\n",
    "\n",
    "# Example usage:\n",
    "my_list = [1, 2, 3, 4, 5]\n",
    "rotated_list = rotate_list(my_list)\n",
    "print(rotated_list)\n"
   ]
  },
  {
   "cell_type": "markdown",
   "id": "72ae77e9",
   "metadata": {},
   "source": [
    "In this program, the rotate_list function takes a list as an argument and performs the rotation. If the length of the list is less than or equal to 1, it returns the list as it is.\n",
    "\n",
    "Otherwise, it uses list slicing to create a new list. The slice lst[-1:] retrieves the last element of the list, and lst[:-1] retrieves all elements except the last one. By concatenating these slices with the + operator, the function creates a new list where the last element is moved to the first index, and the remaining elements are shifted one position to the right.\n",
    "\n",
    "In the example usage, the program creates a list [1, 2, 3, 4, 5]. It then calls the rotate_list function with this list and assigns the result to rotated_list. Finally, it prints the rotated_list which will be [5, 1, 2, 3, 4] in this case.\n",
    "\n",
    "Note that this program rotates the list in a circular manner, where the last element moves to the first index."
   ]
  },
  {
   "cell_type": "code",
   "execution_count": 5,
   "id": "a7b5c612",
   "metadata": {},
   "outputs": [
    {
     "name": "stdout",
     "output_type": "stream",
     "text": [
      "Random List: [0, 1, 0, 0, 0, 0, 0, 1, 1, 1, 0, 1, 0, 1, 0, 1, 0, 1, 0, 1, 0, 1, 0, 0, 0, 1, 1, 0, 1, 1, 0, 0, 1, 0, 0, 1, 0, 1, 1, 0, 0, 0, 1, 1, 0, 1, 1, 0, 1, 0, 1, 0, 0, 1, 1, 0, 1, 1, 0, 0, 1, 1, 0, 0, 1, 1, 1, 0, 0, 0, 0, 1, 0, 0, 1, 0, 0, 0, 0, 0, 1, 1, 1, 1, 1, 1, 1, 1, 1, 0, 1, 1, 0, 0, 1, 0, 1, 0, 0, 0]\n",
      "Longest Run of Zeros: 5\n"
     ]
    }
   ],
   "source": [
    "import random\n",
    "\n",
    "def generate_random_list(length):\n",
    "    return [random.randint(0, 1) for _ in range(length)]\n",
    "\n",
    "def find_longest_run_of_zeros(numbers):\n",
    "    max_run = 0\n",
    "    current_run = 0\n",
    "\n",
    "    for num in numbers:\n",
    "        if num == 0:\n",
    "            current_run += 1\n",
    "            max_run = max(max_run, current_run)\n",
    "        else:\n",
    "            current_run = 0\n",
    "\n",
    "    return max_run\n",
    "\n",
    "# Generate a list of 100 random integers (0 or 1)\n",
    "random_list = generate_random_list(100)\n",
    "\n",
    "# Find the longest run of zeros in the list\n",
    "longest_run_of_zeros = find_longest_run_of_zeros(random_list)\n",
    "\n",
    "# Print the results\n",
    "print(\"Random List:\", random_list)\n",
    "print(\"Longest Run of Zeros:\", longest_run_of_zeros)\n"
   ]
  },
  {
   "cell_type": "markdown",
   "id": "dec3d953",
   "metadata": {},
   "source": [
    "n this program, the generate_random_list function generates a list of random integers (0 or 1) of the specified length using a list comprehension and the random.randint function.\n",
    "\n",
    "The find_longest_run_of_zeros function takes a list of numbers as an argument. It iterates through the list and keeps track of the current run of zeros. Whenever it encounters a zero, it increments the current_run counter and updates the max_run if necessary. If a non-zero number is encountered, the current_run is reset to zero. The function returns the max_run, which represents the longest run of zeros in the list.\n",
    "\n",
    "The program generates a list of 100 random integers using generate_random_list, then calls find_longest_run_of_zeros to determine the longest run of zeros in the list. Finally, it prints both the random list and the longest run of zeros.\n",
    "\n",
    "Please note that the program considers the longest consecutive sequence of zeros. If there are multiple sequences of the same length, it will only report the first one encountered."
   ]
  },
  {
   "cell_type": "code",
   "execution_count": 7,
   "id": "c7f6e610",
   "metadata": {},
   "outputs": [
    {
     "name": "stdout",
     "output_type": "stream",
     "text": [
      "Enter the size of the matrix: 2\n",
      "Enter the elements of the matrix:\n",
      "4\n",
      "7\n",
      "8\n",
      "9\n",
      "\n",
      "Original Matrix:\n",
      "[4, 7]\n",
      "[8, 9]\n",
      "\n",
      "Transposed Matrix:\n",
      "[4, 8]\n",
      "[7, 9]\n",
      "\n",
      "Product of the Matrices:\n",
      "[65, 95]\n",
      "[95, 145]\n"
     ]
    }
   ],
   "source": [
    "def read_matrix(size):\n",
    "    matrix = []\n",
    "    print(\"Enter the elements of the matrix:\")\n",
    "\n",
    "    for _ in range(size):\n",
    "        row = []\n",
    "        for _ in range(size):\n",
    "            element = int(input())\n",
    "            row.append(element)\n",
    "        matrix.append(row)\n",
    "\n",
    "    return matrix\n",
    "\n",
    "def transpose_matrix(matrix):\n",
    "    size = len(matrix)\n",
    "    transposed_matrix = []\n",
    "\n",
    "    for i in range(size):\n",
    "        transposed_row = []\n",
    "        for j in range(size):\n",
    "            transposed_row.append(matrix[j][i])\n",
    "        transposed_matrix.append(transposed_row)\n",
    "\n",
    "    return transposed_matrix\n",
    "\n",
    "def multiply_matrices(matrix1, matrix2):\n",
    "    size = len(matrix1)\n",
    "    result_matrix = []\n",
    "\n",
    "    for i in range(size):\n",
    "        row = []\n",
    "        for j in range(size):\n",
    "            element = 0\n",
    "            for k in range(size):\n",
    "                element += matrix1[i][k] * matrix2[k][j]\n",
    "            row.append(element)\n",
    "        result_matrix.append(row)\n",
    "\n",
    "    return result_matrix\n",
    "\n",
    "# Read the size of the matrix from the user\n",
    "size = int(input(\"Enter the size of the matrix: \"))\n",
    "\n",
    "# Read the original matrix from the user\n",
    "original_matrix = read_matrix(size)\n",
    "\n",
    "# Transpose the original matrix\n",
    "transposed_matrix = transpose_matrix(original_matrix)\n",
    "\n",
    "# Multiply the original matrix by its transpose\n",
    "product_matrix = multiply_matrices(original_matrix, transposed_matrix)\n",
    "\n",
    "# Print the original matrix\n",
    "print(\"\\nOriginal Matrix:\")\n",
    "for row in original_matrix:\n",
    "    print(row)\n",
    "\n",
    "# Print the transposed matrix\n",
    "print(\"\\nTransposed Matrix:\")\n",
    "for row in transposed_matrix:\n",
    "    print(row)\n",
    "\n",
    "# Print the product of the matrices\n",
    "print(\"\\nProduct of the Matrices:\")\n",
    "for row in product_matrix:\n",
    "    print(row)\n"
   ]
  },
  {
   "cell_type": "markdown",
   "id": "2113c0f0",
   "metadata": {},
   "source": [
    "In this program, the read_matrix function takes the size of the matrix as an argument and prompts the user to enter the elements of the matrix. It uses nested loops to read the elements row by row and appends them to the matrix list.\n",
    "\n",
    "The transpose_matrix function takes a matrix as an argument and returns its transpose. It creates an empty transposed_matrix list and uses nested loops to iterate through the rows and columns of the original matrix, swapping the indices to obtain the transpose.\n",
    "\n",
    "The multiply_matrices function takes two matrices as arguments and returns their product. It creates an empty result_matrix list and uses nested loops to iterate through the rows and columns of the matrices. It performs the matrix multiplication by multiplying corresponding elements of the rows of the first matrix with the columns of the second matrix.\n",
    "\n",
    "The program prompts the user to enter the size of the matrix. Then it calls the read_matrix function to populate the original matrix with user input. It then calls the transpose_matrix function to calculate the transpose of the original matrix and the multiply_matrices function to calculate their product.\n",
    "\n",
    "Finally, it prints the original matrix, transposed matrix, and product matrix on the screen."
   ]
  }
 ],
 "metadata": {
  "kernelspec": {
   "display_name": "Python 3 (ipykernel)",
   "language": "python",
   "name": "python3"
  },
  "language_info": {
   "codemirror_mode": {
    "name": "ipython",
    "version": 3
   },
   "file_extension": ".py",
   "mimetype": "text/x-python",
   "name": "python",
   "nbconvert_exporter": "python",
   "pygments_lexer": "ipython3",
   "version": "3.10.9"
  }
 },
 "nbformat": 4,
 "nbformat_minor": 5
}
