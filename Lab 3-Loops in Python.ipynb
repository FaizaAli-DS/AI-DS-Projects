{
 "cells": [
  {
   "cell_type": "code",
   "execution_count": 1,
   "id": "58e4904c",
   "metadata": {},
   "outputs": [
    {
     "name": "stdout",
     "output_type": "stream",
     "text": [
      "Enter the number of values to be input: 5\n",
      "Enter the number: 6\n",
      "Enter the number: 7\n",
      "Enter the number: 8\n",
      "Enter the number: 9\n",
      "Enter the number: 9\n",
      "The sum is: 39\n",
      "The smallest value of entered numbers is 6\n"
     ]
    }
   ],
   "source": [
    "num_values = int(input(\"Enter the number of values to be input: \"))\n",
    "values = []\n",
    "for i in range(num_values):\n",
    "    value = int(input(\"Enter the number: \"))\n",
    "    values.append(value)\n",
    "sum_values = sum(values)\n",
    "smallest_value = min(values)\n",
    "print(\"The sum is:\", sum_values)\n",
    "print(\"The smallest value of entered numbers is\", smallest_value)"
   ]
  },
  {
   "cell_type": "code",
   "execution_count": null,
   "id": "f0dac79c",
   "metadata": {},
   "outputs": [],
   "source": [
    "def factorial(n):\n",
    "    if n == 0 or n == 1:\n",
    "        return 1\n",
    "    else:\n",
    "        return n * factorial(n-1)\n",
    "\n",
    "print(\"x\\tFactorial of x\")\n",
    "for i in range(1, 6):\n",
    "    result = factorial(i)\n",
    "    print(f\"{i}\\t\\t{result}\")"
   ]
  },
  {
   "cell_type": "code",
   "execution_count": 2,
   "id": "22dccc31",
   "metadata": {},
   "outputs": [
    {
     "name": "stdout",
     "output_type": "stream",
     "text": [
      "I have chosen a number between 1 and 10. Try to guess it.\n",
      "Your guess: 5\n",
      "That is incorrect. Guess again.\n",
      "Your guess: 6\n",
      "That's right! You guessed it.\n"
     ]
    }
   ],
   "source": [
    "secret_number = 6\n",
    "print(\"I have chosen a number between 1 and 10. Try to guess it.\")\n",
    "guess = int(input(\"Your guess: \"))\n",
    "while guess != secret_number:\n",
    "    print(\"That is incorrect. Guess again.\")\n",
    "    guess = int(input(\"Your guess: \"))\n",
    "\n",
    "print(\"That's right! You guessed it.\")\n"
   ]
  },
  {
   "cell_type": "code",
   "execution_count": 1,
   "id": "83f5d7b8",
   "metadata": {},
   "outputs": [
    {
     "name": "stdout",
     "output_type": "stream",
     "text": [
      "Enter the first number: 6\n",
      "Enter the second number: 8\n",
      "The GCD of 6 and 8 is 2\n"
     ]
    }
   ],
   "source": [
    "def gcd(a, b):\n",
    "    while b != 0:\n",
    "        a, b = b, a % b\n",
    "    return a\n",
    "num1 = int(input(\"Enter the first number: \"))\n",
    "\n",
    "# Prompt for the second number\n",
    "num2 = int(input(\"Enter the second number: \"))\n",
    "\n",
    "result = gcd(num1, num2)\n",
    "print(\"The GCD of\", num1, \"and\", num2, \"is\", result)"
   ]
  },
  {
   "cell_type": "code",
   "execution_count": null,
   "id": "77eaa019",
   "metadata": {},
   "outputs": [],
   "source": [
    "def is_prime(n):\n",
    "    if n < 2:\n",
    "        return False\n",
    "    for i in range(2, int(n ** 0.5) + 1):\n",
    "        if n % i == 0:\n",
    "            return False\n",
    "    return True\n",
    "\n",
    "# Find and print prime numbers between 1 and 10,000\n",
    "print(\"Prime numbers between 1 and 10,000:\")\n",
    "for num in range(2, 10001):\n",
    "    if is_prime(num):\n",
    "        print(num)\n"
   ]
  },
  {
   "cell_type": "code",
   "execution_count": null,
   "id": "39f491cf",
   "metadata": {},
   "outputs": [],
   "source": [
    "for num in range(1000, 10000):\n",
    "    sum = 0\n",
    "    temp = num\n",
    "    while temp > 0:\n",
    "        digit = temp % 10\n",
    "        sum += digit ** 4\n",
    "        temp //= 10\n",
    "    if num == sum:\n",
    "        print(num)\n"
   ]
  },
  {
   "cell_type": "code",
   "execution_count": 2,
   "id": "c2dace71",
   "metadata": {},
   "outputs": [
    {
     "name": "stdout",
     "output_type": "stream",
     "text": [
      "Line 1: Faiza Ali\n",
      "Line 2: Faiza Ali\n",
      "Line 3: Faiza Ali\n",
      "Line 4: Faiza Ali\n",
      "Line 5: Faiza Ali\n",
      "Line 6: Faiza Ali\n",
      "Line 7: Faiza Ali\n",
      "Line 8: Faiza Ali\n",
      "Line 9: Faiza Ali\n",
      "Line 10: Faiza Ali\n",
      "Line 11: Faiza Ali\n",
      "Line 12: Faiza Ali\n",
      "Line 13: Faiza Ali\n",
      "Line 14: Faiza Ali\n",
      "Line 15: Faiza Ali\n",
      "Line 16: Faiza Ali\n",
      "Line 17: Faiza Ali\n",
      "Line 18: Faiza Ali\n",
      "Line 19: Faiza Ali\n",
      "Line 20: Faiza Ali\n",
      "Line 21: Faiza Ali\n",
      "Line 22: Faiza Ali\n",
      "Line 23: Faiza Ali\n",
      "Line 24: Faiza Ali\n",
      "Line 25: Faiza Ali\n",
      "Line 26: Faiza Ali\n",
      "Line 27: Faiza Ali\n",
      "Line 28: Faiza Ali\n",
      "Line 29: Faiza Ali\n",
      "Line 30: Faiza Ali\n",
      "Line 31: Faiza Ali\n",
      "Line 32: Faiza Ali\n",
      "Line 33: Faiza Ali\n",
      "Line 34: Faiza Ali\n",
      "Line 35: Faiza Ali\n",
      "Line 36: Faiza Ali\n",
      "Line 37: Faiza Ali\n",
      "Line 38: Faiza Ali\n",
      "Line 39: Faiza Ali\n",
      "Line 40: Faiza Ali\n",
      "Line 41: Faiza Ali\n",
      "Line 42: Faiza Ali\n",
      "Line 43: Faiza Ali\n",
      "Line 44: Faiza Ali\n",
      "Line 45: Faiza Ali\n",
      "Line 46: Faiza Ali\n",
      "Line 47: Faiza Ali\n",
      "Line 48: Faiza Ali\n",
      "Line 49: Faiza Ali\n",
      "Line 50: Faiza Ali\n",
      "Line 51: Faiza Ali\n",
      "Line 52: Faiza Ali\n",
      "Line 53: Faiza Ali\n",
      "Line 54: Faiza Ali\n",
      "Line 55: Faiza Ali\n",
      "Line 56: Faiza Ali\n",
      "Line 57: Faiza Ali\n",
      "Line 58: Faiza Ali\n",
      "Line 59: Faiza Ali\n",
      "Line 60: Faiza Ali\n",
      "Line 61: Faiza Ali\n",
      "Line 62: Faiza Ali\n",
      "Line 63: Faiza Ali\n",
      "Line 64: Faiza Ali\n",
      "Line 65: Faiza Ali\n",
      "Line 66: Faiza Ali\n",
      "Line 67: Faiza Ali\n",
      "Line 68: Faiza Ali\n",
      "Line 69: Faiza Ali\n",
      "Line 70: Faiza Ali\n",
      "Line 71: Faiza Ali\n",
      "Line 72: Faiza Ali\n",
      "Line 73: Faiza Ali\n",
      "Line 74: Faiza Ali\n",
      "Line 75: Faiza Ali\n",
      "Line 76: Faiza Ali\n",
      "Line 77: Faiza Ali\n",
      "Line 78: Faiza Ali\n",
      "Line 79: Faiza Ali\n",
      "Line 80: Faiza Ali\n",
      "Line 81: Faiza Ali\n",
      "Line 82: Faiza Ali\n",
      "Line 83: Faiza Ali\n",
      "Line 84: Faiza Ali\n",
      "Line 85: Faiza Ali\n",
      "Line 86: Faiza Ali\n",
      "Line 87: Faiza Ali\n",
      "Line 88: Faiza Ali\n",
      "Line 89: Faiza Ali\n",
      "Line 90: Faiza Ali\n",
      "Line 91: Faiza Ali\n",
      "Line 92: Faiza Ali\n",
      "Line 93: Faiza Ali\n",
      "Line 94: Faiza Ali\n",
      "Line 95: Faiza Ali\n",
      "Line 96: Faiza Ali\n",
      "Line 97: Faiza Ali\n",
      "Line 98: Faiza Ali\n",
      "Line 99: Faiza Ali\n",
      "Line 100: Faiza Ali\n"
     ]
    }
   ],
   "source": [
    "name = \"Faiza Ali\"\n",
    "\n",
    "for i in range(1, 101):\n",
    "    print(f\"Line {i}: {name}\")\n"
   ]
  },
  {
   "cell_type": "code",
   "execution_count": 3,
   "id": "54be8203",
   "metadata": {},
   "outputs": [
    {
     "name": "stdout",
     "output_type": "stream",
     "text": [
      "Number\tSquare\n",
      "----------------\n",
      "1\t\t1\n",
      "2\t\t4\n",
      "3\t\t9\n",
      "4\t\t16\n",
      "5\t\t25\n",
      "6\t\t36\n",
      "7\t\t49\n",
      "8\t\t64\n",
      "9\t\t81\n",
      "10\t\t100\n",
      "11\t\t121\n",
      "12\t\t144\n",
      "13\t\t169\n",
      "14\t\t196\n",
      "15\t\t225\n",
      "16\t\t256\n",
      "17\t\t289\n",
      "18\t\t324\n",
      "19\t\t361\n",
      "20\t\t400\n"
     ]
    }
   ],
   "source": [
    "print(\"Number\\tSquare\")\n",
    "print(\"----------------\")\n",
    "for num in range(1, 21):\n",
    "    square = num ** 2\n",
    "    print(f\"{num}\\t\\t{square}\")\n"
   ]
  },
  {
   "cell_type": "code",
   "execution_count": 4,
   "id": "8e040d06",
   "metadata": {},
   "outputs": [
    {
     "name": "stdout",
     "output_type": "stream",
     "text": [
      "8\n",
      "11\n",
      "14\n",
      "17\n",
      "20\n",
      "23\n",
      "26\n",
      "29\n",
      "32\n",
      "35\n",
      "38\n",
      "41\n",
      "44\n",
      "47\n",
      "50\n",
      "53\n",
      "56\n",
      "59\n",
      "62\n",
      "65\n",
      "68\n",
      "71\n",
      "74\n",
      "77\n",
      "80\n",
      "83\n",
      "86\n",
      "89\n"
     ]
    }
   ],
   "source": [
    "for num in range(8, 90, 3):\n",
    "    print(num)\n"
   ]
  },
  {
   "cell_type": "code",
   "execution_count": 5,
   "id": "ad7c77ec",
   "metadata": {},
   "outputs": [
    {
     "name": "stdout",
     "output_type": "stream",
     "text": [
      "Enter your name: faiza ali\n",
      "How many times do you want to print your name? 4\n",
      "faiza ali\n",
      "faiza ali\n",
      "faiza ali\n",
      "faiza ali\n"
     ]
    }
   ],
   "source": [
    "name = input(\"Enter your name: \")\n",
    "times = int(input(\"How many times do you want to print your name? \"))\n",
    "\n",
    "for _ in range(times):\n",
    "    print(name)\n"
   ]
  },
  {
   "cell_type": "code",
   "execution_count": null,
   "id": "9245230a",
   "metadata": {},
   "outputs": [],
   "source": [
    "width = int(input(\"Enter the width of the box: \"))\n",
    "height = int(input(\"Enter the height of the box: \"))\n",
    "\n",
    "for _ in range(height):\n",
    "    print(\"*\" * width)\n"
   ]
  },
  {
   "cell_type": "code",
   "execution_count": null,
   "id": "82a26d68",
   "metadata": {},
   "outputs": [],
   "source": [
    "height = int(input(\"Enter the height of the triangle: \"))\n",
    "\n",
    "for i in range(1, height + 1):\n",
    "    print(\"*\" * i)\n"
   ]
  },
  {
   "cell_type": "code",
   "execution_count": null,
   "id": "f506f02f",
   "metadata": {},
   "outputs": [],
   "source": [
    "height = int(input(\"Enter the height of the diamond: \"))\n",
    "\n",
    "for i in range(1, height + 1):\n",
    "    print(\" \" * (height - i) + \"*\" * (2 * i - 1))\n",
    "\n",
    "for i in range(height - 1, 0, -1):\n",
    "    print(\" \" * (height - i) + \"*\" * (2 * i - 1))"
   ]
  },
  {
   "cell_type": "code",
   "execution_count": 6,
   "id": "77cef367",
   "metadata": {},
   "outputs": [
    {
     "name": "stdout",
     "output_type": "stream",
     "text": [
      "Enter the size of the letter A: 6\n",
      "     **\n",
      "    *  *\n",
      "   *    *\n",
      "  *      *\n",
      " *        *\n",
      "*          *\n",
      "*************\n",
      "*                 *\n",
      " *               *\n",
      "  *             *\n",
      "   *           *\n",
      "    *         *\n",
      "     *       *\n"
     ]
    }
   ],
   "source": [
    "size = int(input(\"Enter the size of the letter A: \"))\n",
    "\n",
    "for i in range(size):\n",
    "    print(\" \" * (size - i - 1) + \"*\" + \" \" * (2 * i) + \"*\")\n",
    "\n",
    "print(\"*\" * (2 * size + 1))\n",
    "\n",
    "for i in range(size - 1, -1, -1):\n",
    "    print(\" \" * (size - i-1) + \"*\" + \" \" * (2 * i+7) + \"*\")\n"
   ]
  }
 ],
 "metadata": {
  "kernelspec": {
   "display_name": "Python 3 (ipykernel)",
   "language": "python",
   "name": "python3"
  },
  "language_info": {
   "codemirror_mode": {
    "name": "ipython",
    "version": 3
   },
   "file_extension": ".py",
   "mimetype": "text/x-python",
   "name": "python",
   "nbconvert_exporter": "python",
   "pygments_lexer": "ipython3",
   "version": "3.10.9"
  }
 },
 "nbformat": 4,
 "nbformat_minor": 5
}
