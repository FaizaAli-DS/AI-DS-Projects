{
  "nbformat": 4,
  "nbformat_minor": 0,
  "metadata": {
    "colab": {
      "provenance": [],
      "include_colab_link": true
    },
    "kernelspec": {
      "name": "python3",
      "display_name": "Python 3"
    },
    "language_info": {
      "name": "python"
    }
  },
  "cells": [
    {
      "cell_type": "markdown",
      "metadata": {
        "id": "view-in-github",
        "colab_type": "text"
      },
      "source": [
        "<a href=\"https://colab.research.google.com/github/FaizaAli-Dev/AI-DS-Projects/blob/projects/Logistic_Reg_Breast_Cancer_Dataset.ipynb\" target=\"_parent\"><img src=\"https://colab.research.google.com/assets/colab-badge.svg\" alt=\"Open In Colab\"/></a>"
      ]
    },
    {
      "cell_type": "code",
      "execution_count": null,
      "metadata": {
        "id": "A9AjYT7HvqEJ"
      },
      "outputs": [],
      "source": [
        "import numpy as np # Linear Algebra\n",
        "import matplotlib.pyplot as plt # Dat visualization\n",
        "from sklearn.model_selection import train_test_split\n",
        "from sklearn import metrics\n",
        "import pandas as pd\n",
        "from sklearn.metrics import mean_absolute_error\n",
        "from sklearn.linear_model import LogisticRegression\n",
        "from sklearn.metrics import accuracy_score\n",
        "import scipy"
      ]
    },
    {
      "cell_type": "code",
      "source": [
        "def readData(file_name):\n",
        "  data=pd.read_csv(file_name)\n",
        "  x=data[['Uniformity of Cell Size','Mitoses']]\n",
        "  y=data['Class']\n",
        "  x=np.concatenate((np.ones((x.shape[0],1)),x),axis=1)\n",
        "  return x,y"
      ],
      "metadata": {
        "id": "QlvO_a1EzUp4"
      },
      "execution_count": null,
      "outputs": []
    },
    {
      "cell_type": "code",
      "source": [
        "x,y=readData(\"/content/breast_cancer.csv\")"
      ],
      "metadata": {
        "id": "p-FlVuST1j2q"
      },
      "execution_count": null,
      "outputs": []
    },
    {
      "cell_type": "code",
      "source": [
        "\n",
        "def Logisticregresssionmodel(x_train,x_test,y_train,y_test):\n",
        "  reg=LogisticRegression(random_state=0).fit(x_train,y_train)\n",
        "  train_acc=reg.score(x_test,y_test)\n",
        "  test_acc=reg.score(x_test,y_test)\n",
        "  y_train_pred=reg.predict(x_train)\n",
        "  y_test_pred=reg.predict(x_test)\n",
        "  train_error=metrics.mean_absolute_error(y_train,y_train_pred)/1000\n",
        "  test_error=metrics.mean_absolute_error(y_test,y_test_pred)/1000\n",
        "  coef=reg.coef_\n",
        "  return test_acc,train_acc,train_error, test_error,coef\n",
        "\n",
        "\n"
      ],
      "metadata": {
        "id": "Sh5h1w903lKY"
      },
      "execution_count": null,
      "outputs": []
    },
    {
      "cell_type": "code",
      "source": [
        "x_train,x_test,y_train,y_test=train_test_split(x,y,test_size=0.4)\n",
        "test_acc,train_acc,train_error,test_error,coef = Logisticregresssionmodel(x_train,x_test,y_train,y_test)\n",
        "print(\"Test Accuracy\",test_acc, \"Test Accuracy\",train_acc,\"Train_error\",train_error,\"Test Error\",test_error)"
      ],
      "metadata": {
        "colab": {
          "base_uri": "https://localhost:8080/"
        },
        "id": "sfeBjJoi1D9F",
        "outputId": "c93bf409-739b-4c0a-beee-eb9a26addc3e"
      },
      "execution_count": null,
      "outputs": [
        {
          "output_type": "stream",
          "name": "stdout",
          "text": [
            "Test Accuracy 0.9233576642335767 Test Accuracy 0.9233576642335767 Train_error 0.00011735941320293399 Test Error 0.00015328467153284672\n"
          ]
        }
      ]
    }
  ]
}