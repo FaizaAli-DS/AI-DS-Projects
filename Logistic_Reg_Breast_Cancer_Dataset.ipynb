{
  "nbformat": 4,
  "nbformat_minor": 0,
  "metadata": {
    "colab": {
      "provenance": [],
      "include_colab_link": true
    },
    "kernelspec": {
      "name": "python3",
      "display_name": "Python 3"
    },
    "language_info": {
      "name": "python"
    }
  },
  "cells": [
    {
      "cell_type": "markdown",
      "metadata": {
        "id": "view-in-github",
        "colab_type": "text"
      },
      "source": [
        "<a href=\"https://colab.research.google.com/github/FaizaAli-Dev/AI-DS-Projects/blob/All-about-AI-and-Data-Science/Logistic_Reg_Breast_Cancer_Dataset.ipynb\" target=\"_parent\"><img src=\"https://colab.research.google.com/assets/colab-badge.svg\" alt=\"Open In Colab\"/></a>"
      ]
    },
    {
      "cell_type": "code",
      "source": [
        "#Tasks 2 Breast cancer dataset\n",
        "#The following tasks shall be performed for achieving the goals of this lab:\n",
        "#Implement binary logistic regression model and its cost function.\n",
        "#Use input data file and use it to train and test your model.\n",
        "#Divide the data set in training and testing sets - 60% train and 40% test.\n",
        "#Build logistic regression model using libraries."
      ],
      "metadata": {
        "id": "zQSP7ZP3q_xV"
      },
      "execution_count": null,
      "outputs": []
    },
    {
      "cell_type": "code",
      "execution_count": null,
      "metadata": {
        "id": "A9AjYT7HvqEJ"
      },
      "outputs": [],
      "source": [
        "#lets start\n",
        "#importing all the libraries that will be required for  logistic\n",
        "#regression training and testing, data split, reading files, plotting maps\n",
        "\n",
        "import numpy as np # Linear Algebra\n",
        "import matplotlib.pyplot as plt # Dat visualization\n",
        "from sklearn.model_selection import train_test_split\n",
        "from sklearn import metrics\n",
        "import pandas as pd\n",
        "from sklearn.metrics import mean_absolute_error\n",
        "from sklearn.linear_model import LogisticRegression\n",
        "from sklearn.metrics import accuracy_score\n",
        "import scipy"
      ]
    },
    {
      "cell_type": "code",
      "source": [
        "# read the csv file using pandas library\n",
        "def readData(file_name):\n",
        "  data=pd.read_csv(file_name)\n",
        "  x=data[['Uniformity of Cell Size','Mitoses']]\n",
        "  y=data['Class']\n",
        "  x=np.concatenate((np.ones((x.shape[0],1)),x),axis=1)\n",
        "  return x,y"
      ],
      "metadata": {
        "id": "QlvO_a1EzUp4"
      },
      "execution_count": null,
      "outputs": []
    },
    {
      "cell_type": "code",
      "source": [
        "##data file is fed to the read file function\n",
        "x,y=readData(\"/content/breast_cancer.csv\")"
      ],
      "metadata": {
        "id": "p-FlVuST1j2q"
      },
      "execution_count": null,
      "outputs": []
    },
    {
      "cell_type": "code",
      "source": [
        "#function for training and testing the logistic regression model using the sckit-learn\n",
        "#library. The data is divided into training and testing data sets and is used accordingly.\n",
        "\n",
        "def Logisticregresssionmodel(x_train,x_test,y_train,y_test):\n",
        "  reg=LogisticRegression(random_state=0).fit(x_train,y_train)\n",
        "  train_acc=reg.score(x_test,y_test)\n",
        "  test_acc=reg.score(x_test,y_test)\n",
        "  y_train_pred=reg.predict(x_train)\n",
        "  y_test_pred=reg.predict(x_test)\n",
        "  train_error=metrics.mean_absolute_error(y_train,y_train_pred)/1000\n",
        "  test_error=metrics.mean_absolute_error(y_test,y_test_pred)/1000\n",
        "  coef=reg.coef_\n",
        "  return test_acc,train_acc,train_error, test_error,coef\n",
        "\n",
        "\n"
      ],
      "metadata": {
        "id": "Sh5h1w903lKY"
      },
      "execution_count": null,
      "outputs": []
    },
    {
      "cell_type": "code",
      "source": [
        "#The results are printed for both training set and testing set\n",
        "x_train,x_test,y_train,y_test=train_test_split(x,y,test_size=0.4)\n",
        "test_acc,train_acc,train_error,test_error,coef = Logisticregresssionmodel(x_train,x_test,y_train,y_test)\n",
        "print(\"Test Accuracy\",test_acc, \"Test Accuracy\",train_acc,\"Train_error\",train_error,\"Test Error\",test_error)"
      ],
      "metadata": {
        "colab": {
          "base_uri": "https://localhost:8080/"
        },
        "id": "sfeBjJoi1D9F",
        "outputId": "c93bf409-739b-4c0a-beee-eb9a26addc3e"
      },
      "execution_count": null,
      "outputs": [
        {
          "output_type": "stream",
          "name": "stdout",
          "text": [
            "Test Accuracy 0.9233576642335767 Test Accuracy 0.9233576642335767 Train_error 0.00011735941320293399 Test Error 0.00015328467153284672\n"
          ]
        }
      ]
    }
  ]
}