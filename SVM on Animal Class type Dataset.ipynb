{
  "nbformat": 4,
  "nbformat_minor": 0,
  "metadata": {
    "colab": {
      "provenance": []
    },
    "kernelspec": {
      "name": "python3",
      "display_name": "Python 3"
    },
    "language_info": {
      "name": "python"
    }
  },
  "cells": [
    {
      "cell_type": "code",
      "execution_count": 23,
      "metadata": {
        "id": "Knddy8HO_AeP"
      },
      "outputs": [],
      "source": [
        "# Task: – Divide the data set in training and testing sets - 60% train and 40% test.\n",
        "# Use different kernels too see their classification and results.\n",
        "\n",
        "import pandas as pd\n",
        "import numpy as np\n",
        "import matplotlib.pyplot as plt\n",
        "from matplotlib.pyplot import figure\n",
        "import seaborn as sns\n",
        "from sklearn.svm import SVC"
      ]
    },
    {
      "cell_type": "code",
      "source": [
        "from sklearn.metrics import classification_report,accuracy_score,confusion_matrix\n",
        "from sklearn.model_selection import train_test_split"
      ],
      "metadata": {
        "id": "YsUt-t73GhVB"
      },
      "execution_count": 30,
      "outputs": []
    },
    {
      "cell_type": "code",
      "source": [
        "# we will start with data reading\n",
        "def readData(filename):\n",
        "  data=pd.read_csv(filename)\n",
        "  x=data.drop(['class_type'],axis=1)\n",
        "  y=data['class_type']\n",
        "  return x,y"
      ],
      "metadata": {
        "id": "IAF-s7CjApv4"
      },
      "execution_count": 38,
      "outputs": []
    },
    {
      "cell_type": "code",
      "source": [
        "x,y=readData(\"/content/SVM_dataset.csv\")"
      ],
      "metadata": {
        "id": "ivAgsvz8J7fI"
      },
      "execution_count": 50,
      "outputs": []
    },
    {
      "cell_type": "code",
      "source": [
        "from sklearn.svm import SVC\n"
      ],
      "metadata": {
        "id": "4C8dDgEBK9U3"
      },
      "execution_count": 61,
      "outputs": []
    },
    {
      "cell_type": "code",
      "source": [
        "def svm(x,y):\n",
        "  x_train,x_test,y_train,y_test=train_test_split(x,y,test_size=0.4,random_state=0)\n",
        "  model = SVC(kernel ='rbf', random_state = 0)\n",
        "  model.fit(x_train,y_train)\n",
        "  y_train_pred=model.predict(x_train)\n",
        "  y_test_pred=model.predict(x_test)\n",
        "  y_pred=model.predict(x_test)\n",
        "  accuracy=accuracy_score(y_test,y_test_pred)\n",
        "  print(\"Test Score:\",accuracy)\n",
        "  return y_test_pred,y_test"
      ],
      "metadata": {
        "id": "ZtgDGpkfCI65"
      },
      "execution_count": 70,
      "outputs": []
    },
    {
      "cell_type": "code",
      "source": [
        " y_test_pred,y_test=svm(x,y)"
      ],
      "metadata": {
        "colab": {
          "base_uri": "https://localhost:8080/"
        },
        "id": "HyaewC_yMKpp",
        "outputId": "8899510a-461b-4a96-9adf-2440d0d78f10"
      },
      "execution_count": 71,
      "outputs": [
        {
          "output_type": "stream",
          "name": "stdout",
          "text": [
            "Test Score: 0.3902439024390244\n"
          ]
        }
      ]
    },
    {
      "cell_type": "code",
      "source": [
        "plt.figure(figsize=(10,8),dpi=100)\n",
        "sns.heatmap(confusion_matrix(y_test,y_test_pred),annot=True)"
      ],
      "metadata": {
        "colab": {
          "base_uri": "https://localhost:8080/",
          "height": 699
        },
        "id": "mgbqNIwOFtjK",
        "outputId": "a14b9759-54ff-4bfb-a2a2-ab363c418226"
      },
      "execution_count": 72,
      "outputs": [
        {
          "output_type": "execute_result",
          "data": {
            "text/plain": [
              "<Axes: >"
            ]
          },
          "metadata": {},
          "execution_count": 72
        },
        {
          "output_type": "display_data",
          "data": {
            "text/plain": [
              "<Figure size 1000x800 with 2 Axes>"
            ],
            "image/png": "[encoded data removed]"
          },
          "metadata": {}
        }
      ]
    }
  ]
}
