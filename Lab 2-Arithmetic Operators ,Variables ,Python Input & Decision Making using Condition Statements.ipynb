{
 "cells": [
  {
   "cell_type": "code",
   "execution_count": 1,
   "id": "baea85e5",
   "metadata": {},
   "outputs": [
    {
     "name": "stdout",
     "output_type": "stream",
     "text": [
      "6\n",
      "6\n"
     ]
    }
   ],
   "source": [
    "num1=9\n",
    "num2=3\n",
    "Diff=num1-num2\n",
    "print(Diff)\n",
    "\n",
    "print (9-3)"
   ]
  },
  {
   "cell_type": "code",
   "execution_count": 2,
   "id": "1143fad7",
   "metadata": {},
   "outputs": [
    {
     "name": "stdout",
     "output_type": "stream",
     "text": [
      "20.0\n",
      "20.0\n"
     ]
    }
   ],
   "source": [
    "num1=8\n",
    "num2=2.5\n",
    "Product=float(num1*num2)\n",
    "print(Product)\n",
    "\n",
    "print(8*2.5)"
   ]
  },
  {
   "cell_type": "code",
   "execution_count": 3,
   "id": "b6a8765a",
   "metadata": {},
   "outputs": [
    {
     "name": "stdout",
     "output_type": "stream",
     "text": [
      "4\n"
     ]
    }
   ],
   "source": [
    "a=9\n",
    "b=2\n",
    "Qoutient= 9//2\n",
    "print(Qoutient)"
   ]
  },
  {
   "cell_type": "code",
   "execution_count": 4,
   "id": "f511245e",
   "metadata": {},
   "outputs": [
    {
     "name": "stdout",
     "output_type": "stream",
     "text": [
      "-5\n"
     ]
    }
   ],
   "source": [
    "x=9\n",
    "y=-2\n",
    "z=9//-2\n",
    "print(z)"
   ]
  },
  {
   "cell_type": "code",
   "execution_count": 5,
   "id": "2c84ff35",
   "metadata": {},
   "outputs": [
    {
     "name": "stdout",
     "output_type": "stream",
     "text": [
      "-5\n"
     ]
    }
   ],
   "source": [
    "x=9\n",
    "y=-2\n",
    "z=9//-2\n",
    "print(z)"
   ]
  },
  {
   "cell_type": "code",
   "execution_count": 6,
   "id": "1393f761",
   "metadata": {},
   "outputs": [
    {
     "name": "stdout",
     "output_type": "stream",
     "text": [
      "1\n"
     ]
    }
   ],
   "source": [
    "x=9\n",
    "y=2\n",
    "z=9%2\n",
    "print(z)"
   ]
  },
  {
   "cell_type": "code",
   "execution_count": 7,
   "id": "88b14835",
   "metadata": {},
   "outputs": [
    {
     "name": "stdout",
     "output_type": "stream",
     "text": [
      "1.0\n"
     ]
    }
   ],
   "source": [
    "num1=9.0\n",
    "num2=2\n",
    "print(num1%num2)"
   ]
  },
  {
   "cell_type": "code",
   "execution_count": 8,
   "id": "f8d09c5c",
   "metadata": {},
   "outputs": [
    {
     "name": "stdout",
     "output_type": "stream",
     "text": [
      "1.0\n"
     ]
    }
   ],
   "source": [
    "a=9\n",
    "b=2.0\n",
    "print(num1%num2)\n"
   ]
  },
  {
   "cell_type": "code",
   "execution_count": 9,
   "id": "9834432f",
   "metadata": {},
   "outputs": [
    {
     "name": "stdout",
     "output_type": "stream",
     "text": [
      "-1\n"
     ]
    }
   ],
   "source": [
    "x=9\n",
    "y=-2\n",
    "print(x%y)"
   ]
  },
  {
   "cell_type": "code",
   "execution_count": 10,
   "id": "b0a060e3",
   "metadata": {},
   "outputs": [
    {
     "name": "stdout",
     "output_type": "stream",
     "text": [
      "1.0\n"
     ]
    }
   ],
   "source": [
    "a=-9\n",
    "b-2\n",
    "print(a%b)"
   ]
  },
  {
   "cell_type": "code",
   "execution_count": 11,
   "id": "1c146c67",
   "metadata": {},
   "outputs": [
    {
     "name": "stdout",
     "output_type": "stream",
     "text": [
      "-5.0\n"
     ]
    }
   ],
   "source": [
    "x=9\n",
    "y=-2.0\n",
    "print(x//y)"
   ]
  },
  {
   "cell_type": "code",
   "execution_count": 12,
   "id": "f47815ca",
   "metadata": {},
   "outputs": [
    {
     "name": "stdout",
     "output_type": "stream",
     "text": [
      "19\n"
     ]
    }
   ],
   "source": [
    "print(4+3*5)"
   ]
  },
  {
   "cell_type": "code",
   "execution_count": 13,
   "id": "b2ccc28c",
   "metadata": {},
   "outputs": [
    {
     "name": "stdout",
     "output_type": "stream",
     "text": [
      "35\n"
     ]
    }
   ],
   "source": [
    "print((4+3)*5)"
   ]
  },
  {
   "cell_type": "code",
   "execution_count": 14,
   "id": "cc67fd32",
   "metadata": {},
   "outputs": [
    {
     "name": "stdout",
     "output_type": "stream",
     "text": [
      "7---14---21---28---35\n",
      "7---14---21---28---35\n"
     ]
    }
   ],
   "source": [
    "x=7\n",
    "print(f\"{x}---{x*2}---{x*3}---{x*4}---{x*5}\")\n",
    "print(str(x)+\"---\"+str(x*2)+\"---\"+str(x*3)+\"---\"+str(x*4)+\"---\"+str(x*5))\n"
   ]
  },
  {
   "cell_type": "code",
   "execution_count": null,
   "id": "b84c8aea",
   "metadata": {},
   "outputs": [],
   "source": [
    "num1=int(input(\"Enter a number \"))\n",
    "print(num1, \" \", type(num1))\n",
    "num2=float(input(\"Enter a decimal number \"))\n",
    "print(num2, \" \",type(num2))"
   ]
  },
  {
   "cell_type": "code",
   "execution_count": null,
   "id": "d1a2aad5",
   "metadata": {},
   "outputs": [],
   "source": [
    "num1, num2 = input(\"Enter two numbers: \").split()\n",
    "print(\"The sum is\", int(num1)+int(num2))\n",
    "print(\"The product is\", int(num1)*int(num2))\n",
    "print(\"The difference is\", int(num1)-int(num2))\n",
    "print(\"The qoutient is\", int(num1)//int(num2))\n",
    "print(\"The modulus is\", int(num1)%int(num2))\n"
   ]
  },
  {
   "cell_type": "code",
   "execution_count": 6,
   "id": "4a56a5e5",
   "metadata": {},
   "outputs": [
    {
     "name": "stdout",
     "output_type": "stream",
     "text": [
      "Enter two numbers: 5 6\n",
      "The sum is 56\n"
     ]
    }
   ],
   "source": [
    "num1, num2 = input(\"Enter two numbers: \").split()\n",
    "print(\"The sum is\", int(num1+num2))"
   ]
  },
  {
   "cell_type": "code",
   "execution_count": null,
   "id": "c74698c1",
   "metadata": {},
   "outputs": [],
   "source": [
    "p=3.14159\n",
    "r=9\n",
    "d=2*r\n",
    "print(\"The diameter of circle is\", d)\n",
    "print(\"The circumference is\", p*d )\n",
    "print(\"The area is\", p*(r*r))"
   ]
  },
  {
   "cell_type": "code",
   "execution_count": null,
   "id": "2b595e2b",
   "metadata": {},
   "outputs": [],
   "source": [
    "x=\"H\"\n",
    "print(\"HHHHH\")\n",
    "print(\" \"\"HHHH\")\n",
    "print(\"  \"\"HHH\")\n",
    "print(\"   \"\"HH\")            \n",
    "print(\"   \",x)      "
   ]
  },
  {
   "cell_type": "code",
   "execution_count": 11,
   "id": "65cc0914",
   "metadata": {},
   "outputs": [
    {
     "name": "stdout",
     "output_type": "stream",
     "text": [
      "   H\n",
      "  HH\n",
      " HHH\n"
     ]
    }
   ],
   "source": [
    "x=\"H\"\n",
    "print(\"  \",x)\n",
    "print(\" \",x*2)\n",
    "print(\"\",x*3)"
   ]
  },
  {
   "cell_type": "code",
   "execution_count": null,
   "id": "013402eb",
   "metadata": {},
   "outputs": [],
   "source": [
    "num=int(input(\"Enter a number \"))\n",
    "if num/2==0:\n",
    "    print(\"The number is even \")\n",
    "else:\n",
    "    print(\"The number is odd \")"
   ]
  },
  {
   "cell_type": "code",
   "execution_count": null,
   "id": "8050c3fa",
   "metadata": {},
   "outputs": [],
   "source": [
    "num1, num2, num3= input(\"Enter three different integers: \").split()\n",
    "if num1<num2 and num1<num3:\n",
    "    print(\"Smallest is \", num1)\n",
    "elif num2<num1 and num2<num3:\n",
    "    print(\"Smallest is \", num2)\n",
    "else:\n",
    "    print(\"Smallest is \", num3)\n",
    "if num1>num2 and num1>num3:\n",
    "    print(\"Largest is \", num1)\n",
    "elif num2>num1 and num2>num3:\n",
    "    print(\"largest is \", num2)\n",
    "else:\n",
    "    print(\"Largest is \", num3)\n"
   ]
  },
  {
   "cell_type": "code",
   "execution_count": null,
   "id": "70dad552",
   "metadata": {},
   "outputs": [],
   "source": [
    "x=3\n",
    "y=5\n",
    "x,y=y,x\n",
    "print('x is equal: ',x)\n",
    "print('x is equal: ',y)"
   ]
  },
  {
   "cell_type": "code",
   "execution_count": 13,
   "id": "c05bbd43",
   "metadata": {},
   "outputs": [
    {
     "name": "stdout",
     "output_type": "stream",
     "text": [
      "-48\n"
     ]
    }
   ],
   "source": [
    "print(6*-----------8)"
   ]
  },
  {
   "cell_type": "code",
   "execution_count": 14,
   "id": "036e5c30",
   "metadata": {},
   "outputs": [
    {
     "ename": "SyntaxError",
     "evalue": "cannot assign to literal here. Maybe you meant '==' instead of '='? (1049067674.py, line 1)",
     "output_type": "error",
     "traceback": [
      "\u001b[1;36m  Cell \u001b[1;32mIn[14], line 1\u001b[1;36m\u001b[0m\n\u001b[1;33m    8 = people\u001b[0m\n\u001b[1;37m    ^\u001b[0m\n\u001b[1;31mSyntaxError\u001b[0m\u001b[1;31m:\u001b[0m cannot assign to literal here. Maybe you meant '==' instead of '='?\n"
     ]
    }
   ],
   "source": [
    "8 = people"
   ]
  },
  {
   "cell_type": "code",
   "execution_count": 15,
   "id": "844eea7e",
   "metadata": {},
   "outputs": [
    {
     "data": {
      "text/plain": [
       "64"
      ]
     },
     "execution_count": 15,
     "metadata": {},
     "output_type": "execute_result"
    }
   ],
   "source": [
    "((((4 ** 3))))"
   ]
  },
  {
   "cell_type": "code",
   "execution_count": 16,
   "id": "97220892",
   "metadata": {},
   "outputs": [
    {
     "data": {
      "text/plain": [
       "5"
      ]
     },
     "execution_count": 16,
     "metadata": {},
     "output_type": "execute_result"
    }
   ],
   "source": [
    "(-(-(-(-5))))"
   ]
  },
  {
   "cell_type": "code",
   "execution_count": 17,
   "id": "d9627ae2",
   "metadata": {},
   "outputs": [
    {
     "ename": "SyntaxError",
     "evalue": "'literal' is an illegal expression for augmented assignment (2059404682.py, line 1)",
     "output_type": "error",
     "traceback": [
      "\u001b[1;36m  Cell \u001b[1;32mIn[17], line 1\u001b[1;36m\u001b[0m\n\u001b[1;33m    4 += 7 / 2\u001b[0m\n\u001b[1;37m    ^\u001b[0m\n\u001b[1;31mSyntaxError\u001b[0m\u001b[1;31m:\u001b[0m 'literal' is an illegal expression for augmented assignment\n"
     ]
    }
   ],
   "source": [
    "4 += 7 / 2"
   ]
  },
  {
   "cell_type": "code",
   "execution_count": null,
   "id": "5f2bcf21",
   "metadata": {},
   "outputs": [],
   "source": [
    "print(\"Number\\tSquare\\tCube\")\n",
    "x=0\n",
    "print(f\"{x}\\t{x**2}\\t{x**3}\")\n",
    "x=1\n",
    "print(f\"{x}\\t{x**2}\\t{x**3}\")\n",
    "x=2\n",
    "print(f\"{x}\\t{x**2}\\t{x**3}\")\n",
    "x=3\n",
    "print(f\"{x}\\t{x**2}\\t{x**3}\")\n",
    "x=4\n",
    "print(f\"{x}\\t{x**2}\\t{x**3}\")\n",
    "x=5\n",
    "print(f\"{x}\\t{x**2}\\t{x**3}\")\n",
    "x=6\n",
    "print(f\"{x}\\t{x**2}\\t{x**3}\")\n",
    "x=7\n",
    "print(f\"{x}\\t{x**2}\\t{x**3}\")\n",
    "x=8\n",
    "print(f\"{x}\\t{x**2}\\t{x**3}\")\n",
    "x=9\n",
    "print(f\"{x}\\t{x**2}\\t{x**3}\")\n",
    "x=10\n",
    "print(f\"{x}\\t{x**2}\\t{x**3}\")"
   ]
  },
  {
   "cell_type": "code",
   "execution_count": null,
   "id": "992f14b7",
   "metadata": {},
   "outputs": [],
   "source": [
    "num = int(input(\"Enter a 5 digit number: \"))\n",
    "d1= num % 10\n",
    "d2= (num//10) % 10\n",
    "d3= (num//100) % 10\n",
    "d4= (num//1000) % 10\n",
    "d5= (num//10000) % 10\n",
    "reverse_number = d1*10000+d2*1000+d3*100+d4*10+d5\n",
    "print(\"Reverse number is:\", reverse_number)"
   ]
  },
  {
   "cell_type": "code",
   "execution_count": null,
   "id": "4e59c55b",
   "metadata": {},
   "outputs": [],
   "source": [
    "x=\"*\"\n",
    "print(f\"{x}{x}{x}{x}{x}{x}{x}{x}{x}\\t{x}{x}{x}\")\n",
    "print(f\"{x}\\t{x}   {x}\\t{x}\")\n",
    "print(f\"{x}\\t{x}\")\n",
    "print(f\"{x}\\t{x}\")\n",
    "print(f\"{x}\\t{x}\")\n",
    "print(f\"{x}\\t{x}\")\n",
    "print(f\"{x}{x}{x}{x}{x}{x}{x}{x}{x}\")\n"
   ]
  },
  {
   "cell_type": "code",
   "execution_count": null,
   "id": "de6ada7c",
   "metadata": {},
   "outputs": [],
   "source": [
    "x = \"*\"\n",
    "print(f\"{x*5}\\t   {x*3}   \\t    {x}    \\t   {x}\")\n",
    "print(f\"{x}   {x}\\t  {x}       {x} {x}   \\t    {x}\")\n",
    "print(f\"{x}   {x}\\t {x}         \\t   {x}\")\n",
    "print(f\"{x}   {x}\\t{x}          \\t   {x}\")\n",
    "print(f\"{x}   {x}\\t {x}         \\t   {x}\")\n",
    "print(f\"{x}   {x}\\t  {x}       {x} {x}   \\t    {x}\")\n",
    "print(f\"{x*5}\\t   {x*3}   \\t    {x}    \\t   {x}\")\n"
   ]
  },
  {
   "cell_type": "code",
   "execution_count": null,
   "id": "f84f7058",
   "metadata": {},
   "outputs": [],
   "source": [
    "num1,num2,num3=input(\"Enter three integers: \").split()\n",
    "if (num1*2)+(num2*2)==(num3*2):\n",
    "    print(\"the three integers are the sides of the right\")"
   ]
  },
  {
   "cell_type": "code",
   "execution_count": null,
   "id": "d225dd0b",
   "metadata": {},
   "outputs": [],
   "source": [
    "num1,num2,num3=input(\"Enter three integers: \").split()\n",
    "if (num1*2)+(num2*2)==(num3*2):\n",
    "    print(\"the three integers are the sides of the right\")\n",
    "else:\n",
    "    print(\"the three integers are not the sides of the right\")"
   ]
  },
  {
   "cell_type": "code",
   "execution_count": null,
   "id": "7269f90c",
   "metadata": {},
   "outputs": [],
   "source": [
    "score=float(input(\"Enter score: \"))\n",
    "print(\"Score    Grade\")\n",
    "if 0.0<=score<1.0:\n",
    "        if score<0.6:\n",
    "            print('F')\n",
    "        elif score>=0.6:\n",
    "            print('D')\n",
    "        elif score>=0.7:\n",
    "            print('C')\n",
    "        elif score>=0.8:\n",
    "            print('B')\n",
    "        elif score>=0.9:\n",
    "            print('D')\n",
    "else:\n",
    "    print('Bad Score')\n"
   ]
  },
  {
   "cell_type": "code",
   "execution_count": null,
   "id": "7cb79774",
   "metadata": {},
   "outputs": [],
   "source": [
    "num=input(\"Enter a five digit number:\")\n",
    "r=num[::-1]\n",
    "if r==num:\n",
    "    print(num,\"is palindrome\")\n",
    "else:\n",
    "    print(num,\"is not a palindrome\")"
   ]
  }
 ],
 "metadata": {
  "kernelspec": {
   "display_name": "Python 3 (ipykernel)",
   "language": "python",
   "name": "python3"
  },
  "language_info": {
   "codemirror_mode": {
    "name": "ipython",
    "version": 3
   },
   "file_extension": ".py",
   "mimetype": "text/x-python",
   "name": "python",
   "nbconvert_exporter": "python",
   "pygments_lexer": "ipython3",
   "version": "3.10.9"
  }
 },
 "nbformat": 4,
 "nbformat_minor": 5
}
